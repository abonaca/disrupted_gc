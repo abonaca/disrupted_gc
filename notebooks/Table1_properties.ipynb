{
 "cells": [
  {
   "cell_type": "code",
   "execution_count": 33,
   "metadata": {},
   "outputs": [],
   "source": [
    "import numpy as np\n",
    "from astropy.table import Table\n",
    "import astropy.units as u\n",
    "import pickle"
   ]
  },
  {
   "cell_type": "code",
   "execution_count": 34,
   "metadata": {},
   "outputs": [],
   "source": [
    "tall = Table.read('../data/stream_fits_5d.fits')\n",
    "N = len(tall)"
   ]
  },
  {
   "cell_type": "code",
   "execution_count": 35,
   "metadata": {},
   "outputs": [
    {
     "data": {
      "text/html": [
       "<i>Table length=20</i>\n",
       "<table id=\"table140093501452240\" class=\"table-striped table-bordered table-condensed\">\n",
       "<thead><tr><th>name</th><th>rperi</th><th>rapo</th><th>ecc</th><th>vcirc</th><th>flag</th><th>ra0</th><th>pbest [5]</th><th>wangle</th><th>n_steps</th><th>dist [3,2]</th><th>phi2 [3,2]</th><th>pmdec [3,2]</th><th>pmra [3,2]</th></tr></thead>\n",
       "<thead><tr><th>bytes17</th><th>float64</th><th>float64</th><th>float64</th><th>float64</th><th>int64</th><th>float64</th><th>float64</th><th>float64</th><th>float64</th><th>float64</th><th>float64</th><th>float64</th><th>float64</th></tr></thead>\n",
       "<tr><td>ATLAS</td><td>18.946892524136683</td><td>25.183807001929445</td><td>0.141328248697007</td><td>209.85472576643488</td><td>0</td><td>30.7</td><td>-33.19836601015188 .. 79.74066893084046</td><td>360.0</td><td>110.0</td><td>9.3 .. 4.58</td><td>9.3 .. 0.24</td><td>9.3 .. 1.0</td><td>9.3 .. 1.0</td></tr>\n",
       "<tr><td>Aliqa Uma</td><td>16.35895214344011</td><td>31.375316089781414</td><td>0.3145824687826762</td><td>205.33888933064844</td><td>0</td><td>40.6</td><td>-38.29747811351786 .. 113.99956026106726</td><td>360.0</td><td>72.0</td><td>31.7 .. 5.76</td><td>31.7 .. 0.26</td><td>31.7 .. 1.0</td><td>31.7 .. 1.0</td></tr>\n",
       "<tr><td>Chenab</td><td>27.948605371222772</td><td>34.792493880136306</td><td>0.10908142494435628</td><td>203.05946849265146</td><td>0</td><td>-28.3</td><td>-42.99032463173399 .. 23.640750556849373</td><td>180.0</td><td>144.0</td><td>-40.7 .. 7.96</td><td>-40.7 .. 0.71</td><td>-40.7 .. 1.0</td><td>-40.7 .. 1.0</td></tr>\n",
       "<tr><td>Elqui</td><td>31.798060640200823</td><td>50.241125987915964</td><td>0.22480799853998382</td><td>193.90342885845553</td><td>0</td><td>20.6</td><td>-42.400319589167374 .. 82.2255544662121</td><td>360.0</td><td>108.0</td><td>10.7 .. 10.02</td><td>10.7 .. 0.54</td><td>10.7 .. 1.0</td><td>10.7 .. 1.0</td></tr>\n",
       "<tr><td>Fimbulthul</td><td>1.4272973960687623</td><td>7.113636193471706</td><td>0.6657748521035963</td><td>233.43842527685666</td><td>0</td><td>214.23</td><td>-22.617221350877895 .. 74.9309488747916</td><td>360.0</td><td>45.0</td><td>198.74 .. 0.01</td><td>198.74 .. 0.5</td><td>198.74 .. 1.0</td><td>198.74 .. 1.0</td></tr>\n",
       "<tr><td>Fj\\&quot;{o}rm</td><td>8.181312029887275</td><td>23.360416163956753</td><td>0.48123882245082467</td><td>211.32221725128323</td><td>0</td><td>197.37</td><td>5.530983230813971 .. -111.83822995880149</td><td>360.0</td><td>207.0</td><td>197.37 .. 0.07</td><td>197.37 .. 0.5</td><td>197.37 .. 1.0</td><td>197.37 .. 1.0</td></tr>\n",
       "<tr><td>Gj\\&quot;{o}ll</td><td>9.242344316286504</td><td>29.229667706713073</td><td>0.5195289338773761</td><td>206.83814294458787</td><td>0</td><td>70.16</td><td>-2.5170516281065214 .. -25.408093423299785</td><td>360.0</td><td>78.0</td><td>70.16 .. 0.1</td><td>70.16 .. 0.5</td><td>70.16 .. 1.0</td><td>70.16 .. 1.0</td></tr>\n",
       "<tr><td>Indus</td><td>11.41834321762615</td><td>20.83030745296318</td><td>0.29185606342037473</td><td>213.5160943135424</td><td>0</td><td>-36.3</td><td>-50.670516375709234 .. 1.078408065651399</td><td>180.0</td><td>60.0</td><td>-36.3 .. 3.32</td><td>-36.3 .. 0.83</td><td>-36.3 .. 1.0</td><td>-36.3 .. 1.0</td></tr>\n",
       "<tr><td>Leiptr</td><td>12.731595167982285</td><td>43.64941402161866</td><td>0.5483729237563725</td><td>197.61652251451048</td><td>0</td><td>61.03</td><td>0.7337272822155927 .. -83.3338223470733</td><td>360.0</td><td>144.0</td><td>61.03 .. 0.42</td><td>61.03 .. 0.5</td><td>61.03 .. 1.0</td><td>61.03 .. 1.0</td></tr>\n",
       "<tr><td>Phoenix</td><td>12.841561306221852</td><td>20.700355515995476</td><td>0.23429770729644628</td><td>213.63485133321706</td><td>0</td><td>20.1</td><td>-55.29893415895843 .. 93.66927439262614</td><td>360.0</td><td>65.0</td><td>20.1 .. 3.82</td><td>20.1 .. 0.16</td><td>20.1 .. 1.0</td><td>20.1 .. 1.0</td></tr>\n",
       "<tr><td>Ravi</td><td>4.83314431813834</td><td>21.260338881413333</td><td>0.6295516178367954</td><td>213.12777843959745</td><td>1</td><td>-16.0</td><td>-59.68555374853973 .. 152.05959628260797</td><td>180.0</td><td>192.0</td><td>-25.2 .. 4.58</td><td>-25.2 .. 0.72</td><td>-25.2 .. 1.0</td><td>-25.2 .. 1.0</td></tr>\n",
       "<tr><td>Slidr</td><td>2.3619364151861055</td><td>27.22979075861808</td><td>0.8403650857340299</td><td>208.29383834641058</td><td>0</td><td>178.01</td><td>3.314002722307689 .. 79.41611344544722</td><td>360.0</td><td>93.0</td><td>148.38 .. 0.09</td><td>148.38 .. 0.5</td><td>148.38 .. 1.0</td><td>148.38 .. 1.0</td></tr>\n",
       "<tr><td>Sv\\&quot;{o}l</td><td>1.0751573815308912</td><td>8.713395540780594</td><td>0.7803235289089081</td><td>230.31237253627984</td><td>1</td><td>244.44</td><td>23.516542898537352 .. -112.95775792577363</td><td>360.0</td><td>34.0</td><td>244.44 .. 0.21</td><td>244.44 .. 0.5</td><td>244.44 .. 1.0</td><td>244.44 .. 1.0</td></tr>\n",
       "<tr><td>Sylgr</td><td>5.2988365407789555</td><td>13.969548810982532</td><td>0.44999682702582616</td><td>221.13929498661403</td><td>1</td><td>186.58</td><td>-0.7936123261155148 .. 54.522063987783476</td><td>360.0</td><td>30.0</td><td>167.79 .. 0.02</td><td>167.79 .. 0.5</td><td>167.79 .. 1.0</td><td>167.79 .. 1.0</td></tr>\n",
       "<tr><td>Tucana III</td><td>10.108085001487606</td><td>23.34384104036922</td><td>0.3956649916755267</td><td>211.33594431024272</td><td>0</td><td>3.2</td><td>-59.399869945680486 .. 126.56635915267684</td><td>180.0</td><td>32.0</td><td>-6.3 .. 5.02</td><td>-6.3 .. 0.18</td><td>-6.3 .. 1.0</td><td>-6.3 .. 1.0</td></tr>\n",
       "<tr><td>Turbio</td><td>18.86041540651042</td><td>nan</td><td>nan</td><td>nan</td><td>1</td><td>27.9</td><td>-53.57994803979235 .. 71.61996433272418</td><td>360.0</td><td>75.0</td><td>28.0 .. 3.32</td><td>28.0 .. 0.25</td><td>28.0 .. 1.0</td><td>28.0 .. 1.0</td></tr>\n",
       "<tr><td>Turranburra</td><td>9.162718475404127</td><td>33.62375542459278</td><td>0.5717002295248831</td><td>203.82566438266971</td><td>0</td><td>75.2</td><td>-26.390273349680122 .. 196.89214875449778</td><td>360.0</td><td>192.0</td><td>59.3 .. 5.5</td><td>59.3 .. 0.6</td><td>59.3 .. 1.0</td><td>59.3 .. 1.0</td></tr>\n",
       "<tr><td>Wambelong</td><td>1.8642263587370809</td><td>22.740118672023694</td><td>0.8484636468553507</td><td>211.8412197259297</td><td>1</td><td>79.3</td><td>-34.29374971743225 .. 245.73829647532634</td><td>360.0</td><td>168.0</td><td>90.5 .. 3.02</td><td>90.5 .. 0.4</td><td>90.5 .. 1.0</td><td>90.5 .. 1.0</td></tr>\n",
       "<tr><td>Willka Yaku</td><td>19.372022697362713</td><td>34.977230560988374</td><td>0.2871282847152611</td><td>202.93953838871795</td><td>0</td><td>36.1</td><td>-64.60011668864266 .. 151.90753567064567</td><td>360.0</td><td>48.0</td><td>36.1 .. 6.94</td><td>36.1 .. 0.21</td><td>36.1 .. 1.0</td><td>36.1 .. 1.0</td></tr>\n",
       "<tr><td>Ylgr</td><td>7.7551513337754505</td><td>18.226174598013383</td><td>0.40302112724071404</td><td>216.04232509470853</td><td>0</td><td>169.05</td><td>-10.360212510832431 .. 148.44102997521364</td><td>360.0</td><td>87.0</td><td>169.05 .. 0.26</td><td>169.05 .. 0.5</td><td>169.05 .. 1.0</td><td>169.05 .. 1.0</td></tr>\n",
       "</table>"
      ],
      "text/plain": [
       "<Table length=20>\n",
       "    name          rperi        ...  pmdec [3,2]    pmra [3,2] \n",
       "  bytes17        float64       ...    float64       float64   \n",
       "----------- ------------------ ... ------------- -------------\n",
       "      ATLAS 18.946892524136683 ...    9.3 .. 1.0    9.3 .. 1.0\n",
       "  Aliqa Uma  16.35895214344011 ...   31.7 .. 1.0   31.7 .. 1.0\n",
       "     Chenab 27.948605371222772 ...  -40.7 .. 1.0  -40.7 .. 1.0\n",
       "      Elqui 31.798060640200823 ...   10.7 .. 1.0   10.7 .. 1.0\n",
       " Fimbulthul 1.4272973960687623 ... 198.74 .. 1.0 198.74 .. 1.0\n",
       "  Fj\\\"{o}rm  8.181312029887275 ... 197.37 .. 1.0 197.37 .. 1.0\n",
       "  Gj\\\"{o}ll  9.242344316286504 ...  70.16 .. 1.0  70.16 .. 1.0\n",
       "      Indus  11.41834321762615 ...  -36.3 .. 1.0  -36.3 .. 1.0\n",
       "     Leiptr 12.731595167982285 ...  61.03 .. 1.0  61.03 .. 1.0\n",
       "    Phoenix 12.841561306221852 ...   20.1 .. 1.0   20.1 .. 1.0\n",
       "       Ravi   4.83314431813834 ...  -25.2 .. 1.0  -25.2 .. 1.0\n",
       "      Slidr 2.3619364151861055 ... 148.38 .. 1.0 148.38 .. 1.0\n",
       "   Sv\\\"{o}l 1.0751573815308912 ... 244.44 .. 1.0 244.44 .. 1.0\n",
       "      Sylgr 5.2988365407789555 ... 167.79 .. 1.0 167.79 .. 1.0\n",
       " Tucana III 10.108085001487606 ...   -6.3 .. 1.0   -6.3 .. 1.0\n",
       "     Turbio  18.86041540651042 ...   28.0 .. 1.0   28.0 .. 1.0\n",
       "Turranburra  9.162718475404127 ...   59.3 .. 1.0   59.3 .. 1.0\n",
       "  Wambelong 1.8642263587370809 ...   90.5 .. 1.0   90.5 .. 1.0\n",
       "Willka Yaku 19.372022697362713 ...   36.1 .. 1.0   36.1 .. 1.0\n",
       "       Ylgr 7.7551513337754505 ... 169.05 .. 1.0 169.05 .. 1.0"
      ]
     },
     "execution_count": 35,
     "metadata": {},
     "output_type": "execute_result"
    }
   ],
   "source": [
    "tall"
   ]
  },
  {
   "cell_type": "code",
   "execution_count": 38,
   "metadata": {},
   "outputs": [],
   "source": [
    "dt = 0.5 * u.Myr\n",
    "\n",
    "def ln_likelihood(p, ra_0, data, n_steps, dt, wangle):\n",
    "    # initial conditions at ra_0\n",
    "    dec, d, pm1, pm2, vr = p\n",
    "    \n",
    "    if (d<0) | (np.abs(vr)>500) | (dec<-90) | (dec>90):\n",
    "        return -np.inf\n",
    "    \n",
    "    _phi2_sigma = 0. # deg\n",
    "    _dist_sigma = 0. # kpc\n",
    "    _vr_sigma = 0 # km/s\n",
    "    _pm_sigma = 0 # mas/yr\n",
    "    \n",
    "    wdeg = wangle.to(u.deg).value\n",
    "    \n",
    "    c = coord.ICRS(ra=ra_0*u.deg, dec=dec*u.deg, distance=d*u.kpc, \n",
    "               pm_ra_cosdec=pm1*u.mas/u.yr,\n",
    "               pm_dec=pm2*u.mas/u.yr,\n",
    "               radial_velocity=vr*u.km/u.s)\n",
    "\n",
    "    w0 = gd.PhaseSpacePosition(c.transform_to(gc_frame).cartesian)\n",
    "    if ham.energy(w0)>0:\n",
    "        return -np.inf\n",
    "    \n",
    "    orbit = ham.integrate_orbit(w0, dt=dt, n_steps=n_steps)\n",
    "    model_stream = orbit.to_coord_frame(coord.ICRS, galactocentric_frame=gc_frame)\n",
    "    model_x = model_stream.ra.wrap_at(wangle).degree\n",
    "    if model_x[-1] < wdeg - 360:\n",
    "        return -np.inf\n",
    "    \n",
    "    model_phi2 = model_stream.dec.degree\n",
    "    model_dist = model_stream.distance.to(u.kpc).value\n",
    "    model_pmra = model_stream.pm_ra_cosdec.to(u.mas/u.yr).value\n",
    "    model_pmdec = model_stream.pm_dec.to(u.mas/u.yr).value\n",
    "    ix = np.argsort(model_x)\n",
    "    model_x = model_x[ix]\n",
    "    \n",
    "    # define interpolating functions\n",
    "    order = 3\n",
    "    bbox = [wdeg - 360, wdeg]\n",
    "    chi2 = 0\n",
    "    \n",
    "    phi2_interp = InterpolatedUnivariateSpline(model_x, model_phi2[ix], k=order, bbox=bbox)\n",
    "    dist_interp = InterpolatedUnivariateSpline(model_x, model_dist[ix], k=order, bbox=bbox)\n",
    "    pmra_interp = InterpolatedUnivariateSpline(model_x, model_pmra[ix], k=order, bbox=bbox)\n",
    "    pmdec_interp = InterpolatedUnivariateSpline(model_x, model_pmdec[ix], k=order, bbox=bbox)\n",
    "  \n",
    "    phi2_sigma = np.sqrt(_phi2_sigma**2 + data['phi2'][2]**2)\n",
    "    chi2 += np.sum(-(phi2_interp(data['phi2'][0]) - data['phi2'][1])**2 / phi2_sigma**2 - 2*np.log(phi2_sigma))\n",
    "    \n",
    "    dist_sigma = np.sqrt(_dist_sigma**2 + data['dist'][2]**2)\n",
    "    chi2 += np.sum(-(dist_interp(data['dist'][0]) - data['dist'][1])**2 / dist_sigma**2 - 2*np.log(dist_sigma))\n",
    "    \n",
    "    pmra_sigma = np.sqrt(_pm_sigma**2 + data['pmra'][2]**2)\n",
    "    chi2 += np.sum(-(pmra_interp(data['pmra'][0]) - data['pmra'][1])**2 / pmra_sigma**2 - 2*np.log(pmra_sigma))\n",
    "    \n",
    "    pmdec_sigma = np.sqrt(_pm_sigma**2 + data['pmdec'][2]**2)\n",
    "    chi2 += np.sum(-(pmdec_interp(data['pmdec'][0]) - data['pmdec'][1])**2 / pmdec_sigma**2 - 2*np.log(pmdec_sigma))\n",
    "    \n",
    "    return chi2"
   ]
  },
  {
   "cell_type": "code",
   "execution_count": 47,
   "metadata": {},
   "outputs": [],
   "source": [
    "percentiles = [16, 50, 84]\n",
    "p_fit = np.empty((N,3,5))\n",
    "r_fit = np.empty((N,3,5))\n",
    "\n",
    "for i in range(N):\n",
    "    sampler = pickle.load(open('../data/sampler_{:s}.pkl'.format(tall['name'][i]), 'rb'))\n",
    "    chain = sampler.chain[:,256:,:]\n",
    "    flatchain = np.reshape(chain,(-1,5))\n",
    "    \n",
    "    p_fit[i] = np.percentile(flatchain, percentiles, axis=0)\n",
    "\n",
    "r_fit[:,0,:] = p_fit[:,1,:]\n",
    "r_fit[:,1,:] = p_fit[:,2,:] - p_fit[:,1,:]\n",
    "r_fit[:,2,:] = p_fit[:,1,:] - p_fit[:,0,:]"
   ]
  },
  {
   "cell_type": "code",
   "execution_count": 53,
   "metadata": {},
   "outputs": [
    {
     "data": {
      "text/plain": [
       "(array([ -0.20183762,  96.70981046, 184.41399165]),\n",
       " array([96.70981046, 87.70418119, 96.91164808]),\n",
       " 87.70418119140184,\n",
       " 96.91164808198741)"
      ]
     },
     "execution_count": 53,
     "metadata": {},
     "output_type": "execute_result"
    }
   ],
   "source": [
    "p_fit[0,:,4], r_fit[0,:,4], p_fit[0,2,4] - p_fit[0,1,4], p_fit[0,1,4] - p_fit[0,0,4], "
   ]
  },
  {
   "cell_type": "code",
   "execution_count": 48,
   "metadata": {},
   "outputs": [],
   "source": [
    "p_rp = np.empty((N,3))\n",
    "p_ra = np.empty((N,3))\n",
    "r_rp = np.empty((N,3))\n",
    "r_ra = np.empty((N,3))\n",
    "\n",
    "for i in range(N):\n",
    "    t = Table.read('../data/orbit_props_{:s}.fits'.format(tall['name'][i]))\n",
    "    ind_finite = np.isfinite(t['rperi']) & np.isfinite(t['rapo'])\n",
    "    t = t[ind_finite]\n",
    "    p_rp[i] = np.percentile(t['rperi'], percentiles)\n",
    "    p_ra[i] = np.percentile(t['rapo'], percentiles)\n",
    "    \n",
    "r_rp[:,0] = p_rp[:,1]\n",
    "r_rp[:,1] = p_rp[:,2] - p_rp[:,1]\n",
    "r_rp[:,2] = p_rp[:,1] - p_rp[:,0]\n",
    "\n",
    "r_ra[:,0] = p_ra[:,1]\n",
    "r_ra[:,1] = p_ra[:,2] - p_ra[:,1]\n",
    "r_ra[:,2] = p_ra[:,1] - p_ra[:,0]"
   ]
  },
  {
   "cell_type": "code",
   "execution_count": 55,
   "metadata": {},
   "outputs": [],
   "source": [
    "f = open('../paper/table_properties.tex', 'w')\n",
    "for i in range(N):\n",
    "    f.write('{:s} & ${:.1f}$ & ${:.1f}^{{+{:.1f}}}_{{-{:.1f}}}$ & ${:.1f}^{{+{:.1f}}}_{{-{:.1f}}}$ & ${:.1f}^{{+{:.1f}}}_{{-{:.1f}}}$ & ${:.1f}^{{+{:.1f}}}_{{-{:.1f}}}$ & ${:.1f}^{{+{:.1f}}}_{{-{:.1f}}}$ & '.format(\n",
    "        tall['name'][i], tall['ra0'][i], r_fit[i,0,0], r_fit[i,1,0], r_fit[i,2,0], r_fit[i,0,1], r_fit[i,1,1], r_fit[i,2,1],\n",
    "    r_fit[i,0,2], r_fit[i,1,2], r_fit[i,2,2], r_fit[i,0,3], r_fit[i,1,3], r_fit[i,2,3], r_fit[i,0,4], r_fit[i,1,4], r_fit[i,2,4]))\n",
    "    f.write('${:.1f}^{{+{:.1f}}}_{{-{:.1f}}}$ & ${:.1f}^{{+{:.1f}}}_{{-{:.1f}}}$ \\\\\\\\ \\n'.format(\n",
    "        r_rp[i][0], r_rp[i][1], r_rp[i][2], r_ra[i][0], r_ra[i][1], r_ra[i][2]))\n",
    "f.close()"
   ]
  },
  {
   "cell_type": "code",
   "execution_count": null,
   "metadata": {},
   "outputs": [],
   "source": []
  }
 ],
 "metadata": {
  "kernelspec": {
   "display_name": "Python 3",
   "language": "python",
   "name": "python3"
  },
  "language_info": {
   "codemirror_mode": {
    "name": "ipython",
    "version": 3
   },
   "file_extension": ".py",
   "mimetype": "text/x-python",
   "name": "python",
   "nbconvert_exporter": "python",
   "pygments_lexer": "ipython3",
   "version": "3.6.10"
  }
 },
 "nbformat": 4,
 "nbformat_minor": 2
}
